{
 "cells": [
  {
   "cell_type": "code",
   "execution_count": null,
   "metadata": {},
   "outputs": [],
   "source": [
    "%matplotlib inline\n",
    "%matplotlib notebook\n",
    "\n",
    "import seaborn as sns\n",
    "import matplotlib\n",
    "import numpy as np\n",
    "import matplotlib.pyplot as plt\n",
    "import sys\n",
    "import gnupg\n",
    "from rich import print\n",
    "from rich.panel import Panel\n",
    "from rich.text import Text\n",
    "from rich.prompt import Prompt\n",
    "import pandas as pd\n",
    "import glob\n",
    "import os\n",
    "import shutil\n",
    "import tarfile\n",
    "import csv\n",
    "from DictsAndLists import lista, listaTCA\n",
    "from pandasql import sqldf\n",
    "\n",
    "def decrypt_file(file, passphrase, output_file):\n",
    "    gpg = gnupg.GPG(binary='C:/Program Files (x86)/GnuPG/bin/gpg.exe')\n",
    "    with open(file, \"rb\") as f:\n",
    "        status = gpg.decrypt_file(f, passphrase=passphrase, output=output_file)\n",
    "\n",
    "    if status.ok:\n",
    "        print(\"OK\")\n",
    "    else:\n",
    "        print(status.stderr)\n",
    "\n",
    "    print(\"Buscando paquete...\")\n",
    "    crypto = glob.glob(\"*.pgp\")\n",
    "\n",
    "\n",
    "def p30stat(paquete):\n",
    "    # Abrimos el GZ en python para manosearlo por dentro.\n",
    "    try:\n",
    "        TarP3 = tarfile.open(paquete, \"r:gz\")\n",
    "    except Exception as e:\n",
    "        print(f\"Hubo un error leyendo el archivo de vuelta:{str(e)}\")\n",
    "        Prompt.ask(\"\\nPresione [red][ENTER][/red] para volver al menu.\")\n",
    "        return 0\n",
    "    print(f\"Encontrado: {paquete}\")\n",
    "    p30={}\n",
    "    # Buscamos los archivos dentro del GZ.\n",
    "    print(\"Leyendo vuelta SyNTIS.\")\n",
    "    # Empezamos con el dict \"lista\"\n",
    "    for file in lista:\n",
    "        try:\n",
    "            filename = [name for name in TarP3.getnames()\n",
    "                        if file[\"Nombre\"] in name]\n",
    "            txt = TarP3.extractfile(filename[0])\n",
    "            df = pd.read_csv(\n",
    "                txt,\n",
    "                sep=\"\\t\",\n",
    "                encoding=\"ansi\",\n",
    "                dtype=file[\"dtype\"],\n",
    "                names=file[\"dtype\"].keys(),\n",
    "                header=0,\n",
    "                index_col=0\n",
    "            )\n",
    "            p30[file[\"Nombre\"]] = df\n",
    "            # print(f\"Leyendo {file['Nombre']}\")\n",
    "        except IndexError:\n",
    "            print(f\"'\\n{file['Nombre']} no esta en la vuelta.\")\n",
    "            continue\n",
    "    # Continuamos con el dict \"listaTCA\"\n",
    "    for file in listaTCA:\n",
    "        try:\n",
    "            filename = [name for name in TarP3.getnames()\n",
    "                        if file[\"Nombre\"] in name]\n",
    "            txt = TarP3.extractfile(filename[0])\n",
    "            df = pd.read_csv(\n",
    "                txt, sep=\"\\t\", encoding=\"ansi\", dtype=file[\"dtype\"],index_col=0)\n",
    "            # print(f\"Leyendo {file['Nombre']}\")\n",
    "            df.insert(loc=0, column=\"tabla\", value=file[\"Nombre\"])\n",
    "            p30[file[\"Nombre\"]] = df\n",
    "        except IndexError:\n",
    "            print(f\"\\n{file['Nombre']} no esta en la vuelta.\\n\")\n",
    "            continue\n",
    "    return p30\n",
    "    # Cerramos el GZ para que no haya error al moverlo.\n",
    "    TarP3.close()\n",
    "\n",
    "paquete30=p30stat('Vuelta_EfectoresPaquete_30.tar.gz')\n",
    "p30 = pd.read_fwf('EfectoresPaquete_30.txt',encoding='ANSI',widths=(15,9,50,50,8,1,2,10,20,40,6,5,5,5,5,20,20,30,8,20,20,30,30,50,50,15,50,50,30,50,50,11,5,70,6,2,12,12))\n",
    "# cuits= pd.read_csv(\"cuits.txt\",sep=\"\\t\")\n"
   ]
  },
  {
   "cell_type": "markdown",
   "metadata": {},
   "source": [
    "#### GUARDAMOS LOS DICT EN VARIABLES USABLES"
   ]
  },
  {
   "cell_type": "code",
   "execution_count": null,
   "metadata": {},
   "outputs": [],
   "source": [
    "\n",
    "var = paquete30['B00']\n",
    "dat = paquete30['DATOS']\n",
    "pnc = paquete30['PNC']\n",
    "jub = paquete30['JUBILACIONES_PENSIONES']\n",
    "dep = paquete30['EMPLEO_DEPENDIENTE']\n",
    "asg = paquete30['ASIGNACIONES']\n",
    "fal = paquete30['FALLECIDOS']\n",
    "jur = paquete30['PERSONAS_JURIDICAS']\n",
    "rub = paquete30['RUBPS']\n",
    "aut = paquete30['PADRON_AUTOMOTORES']\n",
    "avi = paquete30['AERONAVES']\n",
    "bar = paquete30['EMBARCACIONES']\n",
    "inm = paquete30['INMUEBLES']"
   ]
  },
  {
   "cell_type": "code",
   "execution_count": null,
   "metadata": {},
   "outputs": [],
   "source": [
    "crucepaalexis = sqldf(\"\"\"\n",
    "                SELECT *\n",
    "                p.dDocNroD\n",
    "                FROM      var d \n",
    "                LEFT JOIN p30 p on p.dDocNroD   = d.[ NDOC  ]\n",
    "                inner JOIN (select distinct id_persona from jub) j on j.id_persona = d.[id_persona ]\n",
    "                    \"\"\")"
   ]
  },
  {
   "cell_type": "code",
   "execution_count": null,
   "metadata": {},
   "outputs": [],
   "source": [
    "crucepaalexis.to_excel()\n"
   ]
  },
  {
   "cell_type": "code",
   "execution_count": null,
   "metadata": {},
   "outputs": [],
   "source": [
    "# activos = sqldf(\"\"\"\n",
    "#                 SELECT \n",
    "#                 [ PROV_ACTIVIDAD  ] as PROVINCIA,\n",
    "#                 COUNT(DISTINCT d.[id_persona ]) as EFECTORES,\n",
    "#                 SUM(case when c.cuit is not null then 1 else 0 end) as EFECTORES_activos,\n",
    "#                 COUNT(DISTINCT p.id_persona) as PNC, \n",
    "#                 SUM(case when c.cuit is not null and p.id_persona is not null then 1 else 0 end) as PNC_activos,\n",
    "#                 COUNT(DISTINCT j.id_persona) as JUB_PEN,\n",
    "#                 SUM(case when c.cuit is not null and j.id_persona is not null then 1 else 0 end) as JUB_PEN_activos,\n",
    "#                 COUNT(DISTINCT e.id_persona) as EMPLEO_DEP,\n",
    "#                 SUM(case when c.cuit is not null and e.id_persona is not null then 1 else 0 end) as EMPLEO_DEP_activos,\n",
    "#                 COUNT(DISTINCT a.id_persona) as ASIG_FAM,\n",
    "#                 SUM(case when c.cuit is not null and a.id_persona is not null then 1 else 0 end) as ASIG_FAM_DEP_activos,\n",
    "#                 COUNT(DISTINCT f.id_persona) as FALLECIDOS,\n",
    "#                 SUM(case when c.cuit is not null and f.id_persona is not null then 1 else 0 end) as FALLECIDOS_activos,\n",
    "#                 COUNT(DISTINCT h.id_persona) as JURIDICAS,\n",
    "#                 SUM(case when c.cuit is not null and h.id_persona is not null then 1 else 0 end) as JURIDICAS_activos,\n",
    "#                 COUNT(DISTINCT r.id_persona) as RUBPS,\n",
    "#                 SUM(case when c.cuit is not null and r.id_persona is not null then 1 else 0 end) as RUBPS_activos\n",
    "#                 FROM      var d \n",
    "#                 LEFT JOIN cuits c on c.cuit       = d.[ CUIT  ]\n",
    "#                 LEFT JOIN pnc   p on p.id_persona = d.[id_persona ]\n",
    "#                 LEFT JOIN dat   t on t.id_persona = d.[id_persona ]\n",
    "#                 LEFT JOIN jub   j on j.id_persona = d.[id_persona ]\n",
    "#                 LEFT JOIN dep   e on e.id_persona = d.[id_persona ]\n",
    "#                 LEFT JOIN asg   a on a.id_persona = d.[id_persona ]\n",
    "#                 LEFT JOIN fal   f on f.id_persona = d.[id_persona ]\n",
    "#                 LEFT JOIN jur   h on h.id_persona = d.[id_persona ]\n",
    "#                 LEFT JOIN rub   r on r.id_persona = d.[id_persona ]\n",
    "#                 GROUP BY [ PROV_ACTIVIDAD  ]\n",
    "#               \"\"\")\n",
    "activos = sqldf(\"\"\"\n",
    "                SELECT \n",
    "                [ PROV_ACTIVIDAD  ] as PROVINCIA,\n",
    "                COUNT(DISTINCT d.[id_persona ])                                                  as EFECTORES,\n",
    "                SUM(case when c.cuit is not null then 1 else 0 end)                              as EFECTORES_activos,\n",
    "                COUNT(DISTINCT p.id_persona)                                                     as PNC, \n",
    "                SUM(case when c.cuit is not null and p.id_persona is not null then 1 else 0 end) as PNC_activos,\n",
    "                COUNT(DISTINCT j.id_persona)                                                     as JUB_PEN,\n",
    "                SUM(case when c.cuit is not null and j.id_persona is not null then 1 else 0 end) as JUB_PEN_activos,\n",
    "                COUNT(DISTINCT e.id_persona)                                                     as EMPLEO_DEP,\n",
    "                SUM(case when c.cuit is not null and e.id_persona is not null then 1 else 0 end) as EMPLEO_DEP_activos,\n",
    "                COUNT(DISTINCT a.id_persona)                                                     as ASIG_FAM,\n",
    "                SUM(case when c.cuit is not null and a.id_persona is not null then 1 else 0 end) as ASIG_FAM_activos,\n",
    "                COUNT(DISTINCT f.id_persona)                                                     as FALLECIDOS,\n",
    "                SUM(case when c.cuit is not null and f.id_persona is not null then 1 else 0 end) as FALLECIDOS_activos,\n",
    "                COUNT(DISTINCT h.id_persona)                                                     as JURIDICAS,\n",
    "                SUM(case when c.cuit is not null and h.id_persona is not null then 1 else 0 end) as JURIDICAS_activos,\n",
    "                COUNT(DISTINCT r.id_persona)                                                     as RUBPS,\n",
    "                SUM(case when c.cuit is not null and r.id_persona is not null then 1 else 0 end) as RUBPS_activos\n",
    "                FROM      var d \n",
    "                LEFT JOIN cuits c on c.cuit       = d.[ CUIT  ]\n",
    "                LEFT JOIN (select distinct id_persona from pnc) p on p.id_persona = d.[id_persona ]\n",
    "                LEFT JOIN (select distinct id_persona from jub) j on j.id_persona = d.[id_persona ]\n",
    "                LEFT JOIN (select distinct id_persona from dep) e on e.id_persona = d.[id_persona ]\n",
    "                LEFT JOIN (select distinct id_persona from asg) a on a.id_persona = d.[id_persona ]\n",
    "                LEFT JOIN (select distinct id_persona from fal) f on f.id_persona = d.[id_persona ]\n",
    "                LEFT JOIN (select distinct id_persona from jur) h on h.id_persona = d.[id_persona ]\n",
    "                LEFT JOIN (select distinct id_persona from rub) r on r.id_persona = d.[id_persona ]\n",
    "                GROUP BY [ PROV_ACTIVIDAD  ]\n",
    "              \"\"\")\n",
    "activos.set_index('PROVINCIA', inplace=True)\n",
    "activos.loc['TOTAL']= activos.sum(numeric_only=True)\n",
    "activos"
   ]
  },
  {
   "cell_type": "markdown",
   "metadata": {},
   "source": [
    "#### PREPARAMOS EL EXCEL"
   ]
  },
  {
   "cell_type": "code",
   "execution_count": null,
   "metadata": {},
   "outputs": [],
   "source": [
    "# preparamos el excel\n",
    "writer = pd.ExcelWriter(\n",
    "    'Resumen_P30.xlsx', engine=\"xlsxwriter\"\n",
    ")"
   ]
  },
  {
   "cell_type": "markdown",
   "metadata": {},
   "source": [
    "#### PRIMERO SACAMOS TODOS LOS STATS GENERALES POR PROVINCIA"
   ]
  },
  {
   "cell_type": "code",
   "execution_count": null,
   "metadata": {},
   "outputs": [],
   "source": [
    "stats_prov = sqldf(\"\"\"\n",
    "                SELECT \n",
    "                [ PROV_ACTIVIDAD  ] as PROVINCIA,\n",
    "                [ LOCALIDAD  ] as LOCALIDAD,\n",
    "                t.sexo,\n",
    "                COUNT(DISTINCT d.[id_persona ]) as EFECTORES,\n",
    "                COUNT(DISTINCT p.id_persona)    as PNC, \n",
    "                COUNT(DISTINCT j.id_persona)    as JUB_PEN,\n",
    "                COUNT(DISTINCT e.id_persona)    as EMPLEO_DEP,\n",
    "                COUNT(DISTINCT a.id_persona)    as ASIG_FAM,\n",
    "                COUNT(DISTINCT f.id_persona)    as FALLECIDOS,\n",
    "                COUNT(DISTINCT h.id_persona)    as JURIDICAS,\n",
    "                COUNT(DISTINCT r.id_persona)    as RUBPS\n",
    "                FROM      var d \n",
    "                LEFT JOIN pnc p on p.id_persona = d.[id_persona ]\n",
    "                LEFT JOIN dat t on t.id_persona = d.[id_persona ]\n",
    "                LEFT JOIN jub j on j.id_persona = d.[id_persona ]\n",
    "                LEFT JOIN dep e on e.id_persona = d.[id_persona ]\n",
    "                LEFT JOIN asg a on a.id_persona = d.[id_persona ]\n",
    "                LEFT JOIN fal f on f.id_persona = d.[id_persona ]\n",
    "                LEFT JOIN jur h on h.id_persona = d.[id_persona ]\n",
    "                LEFT JOIN rub r on r.id_persona = d.[id_persona ]\n",
    "                GROUP BY [ PROV_ACTIVIDAD  ],[ LOCALIDAD  ],t.sexo\n",
    "              \"\"\")\n",
    "stats_prov.set_index('PROVINCIA', inplace=True)\n",
    "stats_prov.loc['TOTAL']= stats_prov.sum(numeric_only=True)\n",
    "stats_prov.to_csv('Stats_por_provincia.txt', sep ='\\t')"
   ]
  },
  {
   "cell_type": "markdown",
   "metadata": {},
   "source": [
    "#### EVALUACION MUEBLES"
   ]
  },
  {
   "cell_type": "code",
   "execution_count": null,
   "metadata": {},
   "outputs": [],
   "source": [
    "muebles= sqldf(\"\"\"\n",
    "                select * from aut\n",
    "                where ID_PERSONA IN ( \n",
    "                select dat.id_persona\n",
    "                from dat inner join \n",
    "                aut on aut.ID_PERSONA=dat.id_persona\n",
    "                GROUP BY dat.id_persona\n",
    "                HAVING COUNT(DOMINIO)>2)\n",
    "                ORDER BY ID_PERSONA\"\"\")\n",
    "muebles.set_index('ID_PERSONA', inplace=True)"
   ]
  },
  {
   "cell_type": "markdown",
   "metadata": {},
   "source": [
    "#### EVALUACION INMUEBLES"
   ]
  },
  {
   "cell_type": "code",
   "execution_count": null,
   "metadata": {},
   "outputs": [],
   "source": [
    "inmuebles= sqldf(\"\"\"\n",
    "                select * from inm\n",
    "                where ID_PERSONA IN ( \n",
    "                select id_persona\n",
    "                from inm\n",
    "                GROUP BY id_persona\n",
    "                HAVING COUNT(ID_PERSONA)>1)\n",
    "                ORDER BY ID_PERSONA\"\"\")\n",
    "inmuebles.set_index('ID_PERSONA', inplace=True)"
   ]
  },
  {
   "cell_type": "markdown",
   "metadata": {},
   "source": [
    "#### ARMAMOS EL DF DE LOS EVALUADOS"
   ]
  },
  {
   "cell_type": "code",
   "execution_count": null,
   "metadata": {},
   "outputs": [],
   "source": [
    "eval = sqldf(\"\"\"\n",
    "            SELECT\n",
    "            distinct(dat.id_persona),\n",
    "            dat.cuit,\n",
    "            dat.ndoc,\n",
    "            dat.deno,\n",
    "            case when dat.sexo=1 then 'M' else 'F' end as sexo,\n",
    "            dat.fnac,\n",
    "            dat.grado_confiab,\n",
    "            case when inm.id_persona is not null then 'Si' else 'No' end as Inmuebles,\n",
    "            case when aut.id_persona is not null then 'Si' else 'No' end as Muebles,\n",
    "            case when dep.base=105 then 'Si' else 'No' end as Servicio_Domestico,\n",
    "            case when dep.monto > 45000 then 'Si' else 'No' end as Dependiente,\n",
    "            case when jur.id_persona is not null then 'Si' else 'No' end as Juridicas,\n",
    "            case when jub.monto > 45000 then 'Si' else 'No' end as Jub_pen,\n",
    "            case when fal.id_persona is not null then 'Si' else 'No' end as Fallecido\n",
    "            from dat\n",
    "            left join muebles aut on aut.ID_PERSONA = dat.id_persona\n",
    "            left join inmuebles inm on inm.ID_PERSONA = dat.id_persona\n",
    "            left join dep on dep.ID_PERSONA = dat.id_persona\n",
    "            left join jub on jub.ID_PERSONA = dat.id_persona\n",
    "            left join jur on jur.ID_PERSONA = dat.id_persona\n",
    "            left join fal on fal.ID_PERSONA = dat.id_persona\n",
    "            where \n",
    "            Inmuebles ='Si' \n",
    "            or Muebles ='Si' \n",
    "            or Servicio_Domestico ='Si' \n",
    "            or Dependiente ='Si'\n",
    "            or Juridicas ='Si'\n",
    "            or Jub_pen ='Si'\n",
    "            or Fallecido='Si'\n",
    "                \"\"\")"
   ]
  },
  {
   "cell_type": "markdown",
   "metadata": {},
   "source": [
    "#### ARMAMOS EL EXCEL DE SALIDA"
   ]
  },
  {
   "cell_type": "code",
   "execution_count": null,
   "metadata": {},
   "outputs": [],
   "source": [
    "stats_prov.to_excel(writer, sheet_name=\"Stats globales\")\n",
    "eval.to_excel(writer, sheet_name=\"Efectores fuera del marco legal\")\n",
    "muebles.to_excel(writer, sheet_name=\"Detalle Muebles\")\n",
    "inmuebles.to_excel(writer, sheet_name=\"Detalle Inmuebles\")\n",
    "writer.save()"
   ]
  }
 ],
 "metadata": {
  "kernelspec": {
   "display_name": "Python 3.10.6 64-bit",
   "language": "python",
   "name": "python3"
  },
  "language_info": {
   "codemirror_mode": {
    "name": "ipython",
    "version": 3
   },
   "file_extension": ".py",
   "mimetype": "text/x-python",
   "name": "python",
   "nbconvert_exporter": "python",
   "pygments_lexer": "ipython3",
   "version": "3.10.6 (tags/v3.10.6:9c7b4bd, Aug  1 2022, 21:53:49) [MSC v.1932 64 bit (AMD64)]"
  },
  "orig_nbformat": 4,
  "vscode": {
   "interpreter": {
    "hash": "369f2c481f4da34e4445cda3fffd2e751bd1c4d706f27375911949ba6bb62e1c"
   }
  }
 },
 "nbformat": 4,
 "nbformat_minor": 2
}
